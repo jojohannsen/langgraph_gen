{
 "cells": [
  {
   "cell_type": "markdown",
   "id": "e7931f62-735d-433b-868a-cf31add969f5",
   "metadata": {},
   "source": [
    "### [LangGraph: human-in-the-loop](https://www.youtube.com/watch?v=9H4gwJGgvfg&list=PLfaIDFEXuae16n2TWUkKq5PgJ0w6Pkwtg&index=4) <img src=\"https://upload.wikimedia.org/wikipedia/commons/4/42/YouTube_icon_%282013-2017%29.png\" alt=\"YouTube\" width=\"20\" height=\"20\">\n",
    "\n",
    "This is a simplified version of the above:\n",
    "- no langgraph building code\n",
    "- human is a node"
   ]
  },
  {
   "cell_type": "code",
   "execution_count": 1,
   "id": "3498f044-2381-4e02-bc8c-d1b3c4c0dabb",
   "metadata": {},
   "outputs": [],
   "source": [
    "# Imports and ability to\n",
    "import os\n",
    "import sys\n",
    "\n",
    "# Check if the notebook is running in Google Colab\n",
    "def in_colab():\n",
    "    return 'google.colab' in sys.modules\n",
    "\n",
    "# If in Colab, create the directory structure and download the required files\n",
    "if in_colab():\n",
    "    os.makedirs('graph_gen', exist_ok=True)\n",
    "    !wget -q https://raw.githubusercontent.com/jojohannsen/langgraph_gen/main/graph_gen/common_imports.py -O graph_gen/common_imports.py\n",
    "    !wget -q https://raw.githubusercontent.com/jojohannsen/langgraph_gen/main/graph_gen/gen_graph.py -O graph_gen/gen_graph.py\n",
    "    !wget -q https://raw.githubusercontent.com/jojohannsen/langgraph_gen/main/graph_gen/__init__.py -O graph_gen/__init__.py\n",
    "    %pip install langchain langchain-openai openai langgraph langchain-community langchain-core\n",
    "\n",
    "# Run common_imports.py\n",
    "%run graph_gen/common_imports.py\n",
    "\n",
    "from graph_gen.gen_graph import gen_graph"
   ]
  },
  {
   "cell_type": "code",
   "execution_count": 2,
   "id": "5e71f0e6-2cf4-4f4b-86eb-07594bedbda2",
   "metadata": {},
   "outputs": [],
   "source": [
    "if in_colab():\n",
    "    from google.colab import userdata\n",
    "    userdata.get('TAVILY_API_KEY')\n",
    "    %env TAVILY_API_KEY=TAVILY_API_KEY\n",
    "    userdata.get('OPENAI_API_KEY')\n",
    "    %env OPENAI_API_KEY=OPENAI_API_KEY"
   ]
  },
  {
   "cell_type": "code",
   "execution_count": 3,
   "id": "b8616228-ae71-46a9-82c3-9d54483729fc",
   "metadata": {},
   "outputs": [],
   "source": [
    "# Tools\n",
    "tools = [TavilySearchResults(max_results=1)]\n",
    "tool_executor = ToolExecutor(tools)\n",
    "functions = [convert_to_openai_function(tool) for tool in tools]\n",
    "model = ChatOpenAI(model=\"gpt-4o\", temperature=0, streaming=True)\n",
    "model = model.bind_functions(functions)\n",
    "\n",
    "# State\n",
    "class AgentState(TypedDict):\n",
    "    messages: Annotated[Sequence[BaseMessage], operator.add]\n",
    "    human_allows_tool: bool\n",
    "\n",
    "# Nodes:  call_tool and call_model unchanged, adding human node\n",
    "def last_message(state):\n",
    "    return state[\"messages\"][-1]\n",
    "    \n",
    "def human(state):\n",
    "    message = last_message(state)\n",
    "    if 'function_call' in message.additional_kwargs:\n",
    "        human_input = input(prompt=f\"Continue with {message.additional_kwargs['function_call']['name']} (y/n)? \")\n",
    "        return { \"human_allows_tool\": human_input == \"y\" }\n",
    "    else:\n",
    "        return {}\n",
    "        # human_input = input(prompt=f\"What would you like to discuss? \")\n",
    "        # return { \"messages\": [HumanMessage(content=human_input)] }\n",
    "\n",
    "def call_model(state):\n",
    "    messages = state[\"messages\"]\n",
    "    response = model.invoke(messages)\n",
    "    return { \"messages\": [response] }\n",
    "\n",
    "def call_tool(state):\n",
    "    message = last_message(state)\n",
    "    action = ToolInvocation(\n",
    "        tool=message.additional_kwargs[\"function_call\"][\"name\"],\n",
    "        tool_input=json.loads(message.additional_kwargs[\"function_call\"][\"arguments\"])\n",
    "    )\n",
    "    response = tool_executor.invoke(action)\n",
    "    function_message = FunctionMessage(content=str(response), name=action.tool)\n",
    "    return { \"messages\": [function_message] }\n",
    "    \n",
    "# Graph and conditions\n",
    "def human_allows_tool_call(state):\n",
    "    print(f\"human_allows_tool_call: {state['human_allows_tool']}\")\n",
    "    return state[\"human_allows_tool\"]\n",
    "\n",
    "def ask_human_approval(state):\n",
    "    message = last_message(state)\n",
    "    if 'function_call' in message.additional_kwargs:\n",
    "        human_input = input(prompt=f\"Continue with {message.additional_kwargs['function_call']['name']} (y/n)? \")\n",
    "        return { \"human_allows_tool\": human_input == \"y\" }\n",
    "    else:\n",
    "        return { \"human_allows_tool\": False }\n",
    "        \n",
    "def should_call_tool(state):\n",
    "    last_message = state[\"messages\"][-1]\n",
    "    return \"function_call\" in last_message.additional_kwargs\n",
    "\n",
    "def is_done(state):\n",
    "    last_message = state[\"messages\"][-1]\n",
    "    return last_message.content == \"q\" or last_message.content == \"quit\"\n",
    "\n",
    "graph_spec = \"\"\"\n",
    "   \n",
    "call_model(AgentState)\n",
    "    should_call_tool => ask_human_approval\n",
    "    \n",
    "ask_human_approval\n",
    "    human_allows_tool_call => call_tool\n",
    "    \n",
    "call_tool\n",
    "    => call_model\n",
    "\n",
    "\"\"\"\n",
    "\n",
    "# The graph code\n",
    "graph_code = gen_graph(\"human_in_loop\", graph_spec)\n",
    "#print(graph_code)\n",
    "exec(graph_code)"
   ]
  },
  {
   "cell_type": "code",
   "execution_count": 5,
   "id": "f69927bf-478e-4c4b-9144-86010e4be070",
   "metadata": {},
   "outputs": [
    {
     "name": "stdout",
     "output_type": "stream",
     "text": [
      "{'call_model': {'messages': [AIMessage(content='', additional_kwargs={'function_call': {'arguments': '{\"query\":\"LangCloud\"}', 'name': 'tavily_search_results_json'}}, response_metadata={'finish_reason': 'function_call', 'model_name': 'gpt-4o-2024-05-13', 'system_fingerprint': 'fp_dd932ca5d1'}, id='run-5b4ecdba-2759-4d51-8510-badee6e3a35b-0')]}}\n"
     ]
    },
    {
     "name": "stdin",
     "output_type": "stream",
     "text": [
      "Continue with tavily_search_results_json (y/n)?  y\n"
     ]
    },
    {
     "name": "stdout",
     "output_type": "stream",
     "text": [
      "human_allows_tool_call: True\n",
      "{'ask_human_approval': {'human_allows_tool': True}}\n",
      "{'call_tool': {'messages': [FunctionMessage(content='[{\\'url\\': \\'https://www.yarn.com/products/lang-cloud\\', \\'content\\': \"Product Details. Cloud by Lang Yarns is a light and airy bulky weight, blown yarn. The colorful striping gives any garment a wow factor that looks impressive. Cloud comes in a generous 284 yards per 100g meaning you\\'ll have fewer ends to weave in at the end of your project! Shop Lang Cloud, perfect for your Knitting projects.\"}]', name='tavily_search_results_json')]}}\n",
      "{'call_model': {'messages': [AIMessage(content='It appears that \"Lang Cloud\" refers to a specific type of yarn produced by Lang Yarns. Here are some details about it:\\n\\n- **Type**: Light and airy bulky weight, blown yarn.\\n- **Features**: Colorful striping that adds a striking visual effect to garments.\\n- **Length**: Comes in a generous 284 yards per 100 grams, which means fewer ends to weave in at the end of your project.\\n- **Usage**: Ideal for knitting projects.\\n\\nFor more information, you can visit the [Lang Cloud product page](https://www.yarn.com/products/lang-cloud).', response_metadata={'finish_reason': 'stop', 'model_name': 'gpt-4o-2024-05-13', 'system_fingerprint': 'fp_dd932ca5d1'}, id='run-a535abc4-68c5-4cba-a1d2-f655e1baf5ab-0')]}}\n",
      "DONE\n"
     ]
    }
   ],
   "source": [
    "messages = [HumanMessage(content=\"tell me about langcloud\")]\n",
    "\n",
    "# this app.stream requires messages, but i really need those to be provided by the graph entry point\n",
    "# so here I would like to start at the 'human' node, when the human provides input, that is appended to message, then the llm responds.\n",
    "# the app.stream starts with an existing human message.\n",
    "for s in human_in_loop.stream({\"messages\": messages, \"human_allows_tool_call\": False}, stream_mode=\"updates\"):\n",
    "    print(s)\n",
    "\n",
    "print(\"DONE\")"
   ]
  },
  {
   "cell_type": "code",
   "execution_count": 6,
   "id": "4407531b-2985-454b-85f3-5b5fc7511fb1",
   "metadata": {},
   "outputs": [
    {
     "data": {
      "image/jpeg": "[encoded data removed]",
      "text/plain": [
       "<IPython.core.display.Image object>"
      ]
     },
     "metadata": {},
     "output_type": "display_data"
    }
   ],
   "source": [
    "from IPython.display import Image, display\n",
    "\n",
    "try:\n",
    "    display(Image(human_in_loop.get_graph().draw_mermaid_png()))\n",
    "except:\n",
    "    # This requires some extra dependencies and is optional\n",
    "    pass"
   ]
  },
  {
   "cell_type": "code",
   "execution_count": null,
   "id": "341ba3f3-025b-4555-aed0-bd8504f3be99",
   "metadata": {},
   "outputs": [],
   "source": []
  }
 ],
 "metadata": {
  "kernelspec": {
   "display_name": "Python 3 (ipykernel)",
   "language": "python",
   "name": "python3"
  },
  "language_info": {
   "codemirror_mode": {
    "name": "ipython",
    "version": 3
   },
   "file_extension": ".py",
   "mimetype": "text/x-python",
   "name": "python",
   "nbconvert_exporter": "python",
   "pygments_lexer": "ipython3",
   "version": "3.11.3"
  }
 },
 "nbformat": 4,
 "nbformat_minor": 5
}
