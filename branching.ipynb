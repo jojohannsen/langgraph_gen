{
 "cells": [
  {
   "cell_type": "code",
   "execution_count": 1,
   "id": "426349b5-5ff8-4167-b662-1676bce0c846",
   "metadata": {},
   "outputs": [],
   "source": [
    "from graph_gen.gen_graph import gen_graph"
   ]
  },
  {
   "cell_type": "markdown",
   "id": "710dc4f0-1c88-4386-9e9d-fec3de6bb774",
   "metadata": {},
   "source": [
    "# How to create branches for parallel node execution\n",
    "\n",
    "LangGraph natively supports fan-out and fan-in using either regular edges or [conditional_edges](https://langchain-ai.github.io/langgraph/reference/graphs/#langgraph.graph.MessageGraph.add_conditional_edges).\n",
    "\n",
    "This lets you run nodes in parallel to speed up your total graph execution.\n",
    "\n",
    "Below are some examples showing how to add create branching dataflows that work for you. "
   ]
  },
  {
   "cell_type": "code",
   "execution_count": 2,
   "id": "bb54e2d0",
   "metadata": {},
   "outputs": [],
   "source": [
    "%%capture --no-stderr\n",
    "%pip install -U langgraph"
   ]
  },
  {
   "cell_type": "markdown",
   "id": "d6c05fc4-ecd8-483f-a9fd-b1a055f922d9",
   "metadata": {},
   "source": [
    "## Parallel node fan-out and fan-in"
   ]
  },
  {
   "cell_type": "code",
   "execution_count": 3,
   "id": "09372b8b-edea-4b9d-9ec3-3d93ce1ba819",
   "metadata": {},
   "outputs": [],
   "source": [
    "import operator\n",
    "from typing import Annotated, Any\n",
    "\n",
    "from typing_extensions import TypedDict\n",
    "\n",
    "from langgraph.graph import StateGraph, START, END\n",
    "\n",
    "\n",
    "class State(TypedDict):\n",
    "    # The operator.add reducer fn makes this append-only\n",
    "    aggregate: Annotated[list, operator.add]\n",
    "\n",
    "\n",
    "class ReturnNodeValue:\n",
    "    def __init__(self, node_secret: str):\n",
    "        self._value = node_secret\n",
    "\n",
    "    def __call__(self, state: State) -> Any:\n",
    "        print(f\"Adding {self._value} to {state['aggregate']}\")\n",
    "        return {\"aggregate\": [self._value]}\n",
    "\n",
    "\n",
    "builder = StateGraph(State)\n",
    "builder.add_node(\"a\", ReturnNodeValue(\"I'm A\"))\n",
    "builder.add_edge(START, \"a\")\n",
    "builder.add_node(\"b\", ReturnNodeValue(\"I'm B\"))\n",
    "builder.add_node(\"c\", ReturnNodeValue(\"I'm C\"))\n",
    "builder.add_node(\"d\", ReturnNodeValue(\"I'm D\"))\n",
    "builder.add_edge(\"a\", \"b\")\n",
    "builder.add_edge(\"a\", \"c\")\n",
    "builder.add_edge(\"b\", \"d\")\n",
    "builder.add_edge(\"c\", \"d\")\n",
    "builder.add_edge(\"d\", END)\n",
    "graph = builder.compile()"
   ]
  },
  {
   "cell_type": "code",
   "execution_count": 4,
   "id": "11062c8b-4d1d-413a-b043-c1b0f9ef3fb8",
   "metadata": {},
   "outputs": [
    {
     "name": "stdout",
     "output_type": "stream",
     "text": [
      "TRANSFORMED\n",
      "\n",
      "\n",
      "a(State)\n",
      "   => b\n",
      "   => c\n",
      "\n",
      "b\n",
      "   => d\n",
      "\n",
      "c\n",
      "   => d\n",
      "\n",
      "d\n",
      "   => END\n",
      "   \n",
      "\n",
      "branching = StateGraph(State)\n",
      "branching.add_node('a', a)\n",
      "branching.add_node('b', b)\n",
      "branching.add_node('c', c)\n",
      "branching.add_node('d', d)\n",
      "\n",
      "branching.set_entry_point('a')\n",
      "\n",
      "branching.add_edge('a', 'b')\n",
      "branching.add_edge('a', 'c')\n",
      "branching.add_edge('b', 'd')\n",
      "branching.add_edge('c', 'd')\n",
      "branching.add_edge('d', END)\n",
      "\n",
      "branching = branching.compile()\n"
     ]
    }
   ],
   "source": [
    "a = ReturnNodeValue(\"A node\")\n",
    "b = ReturnNodeValue(\"B node\")\n",
    "c = ReturnNodeValue(\"C node\")\n",
    "d = ReturnNodeValue(\"D node\")\n",
    "graph_spec = \"\"\"\n",
    "\n",
    "a(State)\n",
    "   => b\n",
    "   => c\n",
    "\n",
    "b\n",
    "   => d\n",
    "\n",
    "c\n",
    "   => d\n",
    "\n",
    "d\n",
    "   => END\n",
    "   \n",
    "\"\"\"\n",
    "code = gen_graph(\"branching\", graph_spec)\n",
    "print(code)\n",
    "exec(code)"
   ]
  },
  {
   "cell_type": "code",
   "execution_count": 5,
   "id": "c5aef995-80fe-4150-b53d-fda9d97316f2",
   "metadata": {},
   "outputs": [
    {
     "name": "stdout",
     "output_type": "stream",
     "text": [
      "TRANSFORMED\n",
      "\n",
      "\n",
      "a(State)\n",
      "   => b, c\n",
      "\n",
      "b\n",
      "   => d\n",
      "\n",
      "c\n",
      "   => d\n",
      "\n",
      "d\n",
      "   => END\n",
      "   \n",
      "\n",
      "branching = StateGraph(State)\n",
      "branching.add_node('a', a)\n",
      "branching.add_node('b', b)\n",
      "branching.add_node('c', c)\n",
      "branching.add_node('d', d)\n",
      "\n",
      "branching.set_entry_point('a')\n",
      "\n",
      "branching.add_edge('a', 'b')\n",
      "branching.add_edge('a', 'c')\n",
      "branching.add_edge('b', 'd')\n",
      "branching.add_edge('c', 'd')\n",
      "branching.add_edge('d', END)\n",
      "\n",
      "branching = branching.compile()\n"
     ]
    }
   ],
   "source": [
    "a = ReturnNodeValue(\"A node\")\n",
    "b = ReturnNodeValue(\"B node\")\n",
    "c = ReturnNodeValue(\"C node\")\n",
    "d = ReturnNodeValue(\"D node\")\n",
    "graph_spec = \"\"\"\n",
    "\n",
    "a(State)\n",
    "   => b, c\n",
    "\n",
    "b\n",
    "   => d\n",
    "\n",
    "c\n",
    "   => d\n",
    "\n",
    "d\n",
    "   => END\n",
    "   \n",
    "\"\"\"\n",
    "code = gen_graph(\"branching\", graph_spec)\n",
    "print(code)\n",
    "exec(code)"
   ]
  },
  {
   "cell_type": "code",
   "execution_count": 6,
   "id": "e3138839-40e3-4247-8c97-886f221b61b6",
   "metadata": {},
   "outputs": [
    {
     "name": "stdout",
     "output_type": "stream",
     "text": [
      "TRANSFORMED\n",
      "\n",
      "\n",
      "a(State)\n",
      "  => b, c\n",
      "\n",
      "b\n",
      "  => d\n",
      "\n",
      "c\n",
      "  => d\n",
      "\n",
      "d\n",
      "  => END\n",
      "   \n",
      "\n",
      "branching = StateGraph(State)\n",
      "branching.add_node('a', a)\n",
      "branching.add_node('b', b)\n",
      "branching.add_node('c', c)\n",
      "branching.add_node('d', d)\n",
      "\n",
      "branching.set_entry_point('a')\n",
      "\n",
      "branching.add_edge('a', 'b')\n",
      "branching.add_edge('a', 'c')\n",
      "branching.add_edge('b', 'd')\n",
      "branching.add_edge('c', 'd')\n",
      "branching.add_edge('d', END)\n",
      "\n",
      "branching = branching.compile()\n"
     ]
    }
   ],
   "source": [
    "a = ReturnNodeValue(\"A node\")\n",
    "b = ReturnNodeValue(\"B node\")\n",
    "c = ReturnNodeValue(\"C node\")\n",
    "d = ReturnNodeValue(\"D node\")\n",
    "graph_spec = \"\"\"\n",
    "\n",
    "a(State) => b, c\n",
    "\n",
    "b => d\n",
    "\n",
    "c => d\n",
    "\n",
    "d => END\n",
    "   \n",
    "\"\"\"\n",
    "code = gen_graph(\"branching\", graph_spec)\n",
    "print(code)\n",
    "exec(code)"
   ]
  },
  {
   "cell_type": "code",
   "execution_count": 7,
   "id": "66f52a20",
   "metadata": {},
   "outputs": [
    {
     "data": {
      "image/jpeg": "[encoded data removed]",
      "text/plain": [
       "<IPython.core.display.Image object>"
      ]
     },
     "metadata": {},
     "output_type": "display_data"
    }
   ],
   "source": [
    "from IPython.display import Image, display\n",
    "\n",
    "display(Image(graph.get_graph().draw_mermaid_png()))"
   ]
  },
  {
   "cell_type": "code",
   "execution_count": 8,
   "id": "e3d94891-7f3f-4ea0-9aa5-09bcf1a3b435",
   "metadata": {},
   "outputs": [
    {
     "data": {
      "image/jpeg": "[encoded data removed]",
      "text/plain": [
       "<IPython.core.display.Image object>"
      ]
     },
     "metadata": {},
     "output_type": "display_data"
    }
   ],
   "source": [
    "from IPython.display import Image, display\n",
    "\n",
    "display(Image(branching.get_graph().draw_mermaid_png()))"
   ]
  },
  {
   "cell_type": "code",
   "execution_count": 9,
   "id": "38846b01",
   "metadata": {},
   "outputs": [
    {
     "name": "stdout",
     "output_type": "stream",
     "text": [
      "Adding I'm A to []\n",
      "Adding I'm B to [\"I'm A\"]\n",
      "Adding I'm C to [\"I'm A\"]\n",
      "Adding I'm D to [\"I'm A\", \"I'm B\", \"I'm C\"]\n"
     ]
    },
    {
     "data": {
      "text/plain": [
       "{'aggregate': [\"I'm A\", \"I'm B\", \"I'm C\", \"I'm D\"]}"
      ]
     },
     "execution_count": 9,
     "metadata": {},
     "output_type": "execute_result"
    }
   ],
   "source": [
    "graph.invoke({\"aggregate\": []}, {\"configurable\": {\"thread_id\": \"foo\"}})"
   ]
  },
  {
   "cell_type": "code",
   "execution_count": 10,
   "id": "09b5273d-719a-44cf-b05f-ec68b2c1a5d1",
   "metadata": {},
   "outputs": [
    {
     "name": "stdout",
     "output_type": "stream",
     "text": [
      "Adding A node to []\n",
      "Adding C node to ['A node']\n",
      "Adding B node to ['A node']\n",
      "Adding D node to ['A node', 'B node', 'C node']\n"
     ]
    },
    {
     "data": {
      "text/plain": [
       "{'aggregate': ['A node', 'B node', 'C node', 'D node']}"
      ]
     },
     "execution_count": 10,
     "metadata": {},
     "output_type": "execute_result"
    }
   ],
   "source": [
    "branching.invoke({\"aggregate\": []}, {\"configurable\": {\"thread_id\": \"foo\"}})"
   ]
  },
  {
   "cell_type": "markdown",
   "id": "c392b3d2",
   "metadata": {},
   "source": [
    "<details class=\"note\"> <summary>Exception handling?</summary>\n",
    " <p>LangGraph executes nodes within <a href=\"https://langchain-ai.github.io/langgraph/concepts/#core-design\">\"supersteps\"</a>, meaning that while parallel branches are executed in parallel, the entire superstep is <b>transactional</b>. If any of these branches raises an exception, <b>none</b> of the updates are applied to the state (the entire superstep errors).<br><br>\n",
    " If you have error-prone (perhaps want to handle flakey API calls), LangGraph provides two ways to address this:<br>\n",
    " <ol>\n",
    "  <li>You can write regular python code within your node to catch and handle exceptions.</li>\n",
    "  <li>You can set a <b><a href=\"https://langchain-ai.github.io/langgraph/reference/graphs/#langgraph.graph.graph.CompiledGraph.retry_policy\">retry_policy</a></b> to direct the graph to retry nodes that raise certain types of exceptions. Only failing branches are retried, so you needn't worry about performing redundant work.</li>\n",
    "</ol></p>\n",
    "Together, these let you perform parallel execution and fully control exception handling.\n",
    "</details>"
   ]
  },
  {
   "cell_type": "markdown",
   "id": "08d8162e-1785-4ae1-993f-6d2ed48c22ae",
   "metadata": {},
   "source": [
    "## Parallel node fan-out and fan-in with extra steps\n",
    "\n",
    "The above example showed how to fan-out and fan-in when each path was only one step. But what if one path had more than one step?"
   ]
  },
  {
   "cell_type": "code",
   "execution_count": 11,
   "id": "259a7704-5aa0-4e4c-aeef-cca04e8be0ff",
   "metadata": {},
   "outputs": [],
   "source": [
    "import operator\n",
    "from typing import Annotated\n",
    "\n",
    "from typing_extensions import TypedDict\n",
    "\n",
    "from langgraph.graph import StateGraph\n",
    "\n",
    "\n",
    "class State(TypedDict):\n",
    "    # The operator.add reducer fn makes this append-only\n",
    "    aggregate: Annotated[list, operator.add]\n",
    "\n",
    "\n",
    "builder = StateGraph(State)\n",
    "builder.add_node(\"a\", ReturnNodeValue(\"I'm A\"))\n",
    "builder.add_edge(START, \"a\")\n",
    "builder.add_node(\"b\", ReturnNodeValue(\"I'm B\"))\n",
    "builder.add_node(\"b2\", ReturnNodeValue(\"I'm B2\"))\n",
    "builder.add_node(\"c\", ReturnNodeValue(\"I'm C\"))\n",
    "builder.add_node(\"d\", ReturnNodeValue(\"I'm D\"))\n",
    "builder.add_edge(\"a\", \"b\")\n",
    "builder.add_edge(\"a\", \"c\")\n",
    "builder.add_edge(\"b\", \"b2\")\n",
    "builder.add_edge([\"b2\", \"c\"], \"d\")\n",
    "builder.add_edge(\"d\", END)\n",
    "graph = builder.compile()"
   ]
  },
  {
   "cell_type": "code",
   "execution_count": 12,
   "id": "83320227-8ab3-44c0-b6cf-064a7a425b9f",
   "metadata": {},
   "outputs": [
    {
     "data": {
      "image/jpeg": "[encoded data removed]",
      "text/plain": [
       "<IPython.core.display.Image object>"
      ]
     },
     "metadata": {},
     "output_type": "display_data"
    }
   ],
   "source": [
    "from IPython.display import Image, display\n",
    "\n",
    "display(Image(graph.get_graph().draw_mermaid_png()))"
   ]
  },
  {
   "cell_type": "code",
   "execution_count": 13,
   "id": "3f971fa3-29e4-466f-a85e-2863bfecf7fe",
   "metadata": {},
   "outputs": [
    {
     "name": "stdout",
     "output_type": "stream",
     "text": [
      "Adding I'm A to []\n",
      "Adding I'm C to [\"I'm A\"]\n",
      "Adding I'm B to [\"I'm A\"]\n",
      "Adding I'm B2 to [\"I'm A\", \"I'm B\", \"I'm C\"]\n",
      "Adding I'm D to [\"I'm A\", \"I'm B\", \"I'm C\", \"I'm B2\"]\n"
     ]
    },
    {
     "data": {
      "text/plain": [
       "{'aggregate': [\"I'm A\", \"I'm B\", \"I'm C\", \"I'm B2\", \"I'm D\"]}"
      ]
     },
     "execution_count": 13,
     "metadata": {},
     "output_type": "execute_result"
    }
   ],
   "source": [
    "graph.invoke({\"aggregate\": []})"
   ]
  },
  {
   "cell_type": "code",
   "execution_count": 14,
   "id": "2270a7d9-2d61-4681-b4cb-e3ffe47d54c9",
   "metadata": {},
   "outputs": [
    {
     "name": "stdout",
     "output_type": "stream",
     "text": [
      "TRANSFORMED\n",
      "\n",
      "aaa(State)\n",
      "   => bbb\n",
      "   => ccc\n",
      "\n",
      "bbb\n",
      "   => bbb2\n",
      "\n",
      "bbb2\n",
      "   => ddd\n",
      "\n",
      "ccc\n",
      "   => ddd\n",
      "\n",
      "ddd\n",
      "   => END\n",
      "\n",
      "parallel = StateGraph(State)\n",
      "parallel.add_node('aaa', aaa)\n",
      "parallel.add_node('bbb', bbb)\n",
      "parallel.add_node('bbb2', bbb2)\n",
      "parallel.add_node('ccc', ccc)\n",
      "parallel.add_node('ddd', ddd)\n",
      "\n",
      "parallel.set_entry_point('aaa')\n",
      "\n",
      "parallel.add_edge('aaa', 'bbb')\n",
      "parallel.add_edge('aaa', 'ccc')\n",
      "parallel.add_edge('bbb', 'bbb2')\n",
      "parallel.add_edge('bbb2', 'ddd')\n",
      "parallel.add_edge('ccc', 'ddd')\n",
      "parallel.add_edge('ddd', END)\n",
      "\n",
      "parallel = parallel.compile()\n"
     ]
    }
   ],
   "source": [
    "aaa = ReturnNodeValue(\"AAA\")\n",
    "bbb = ReturnNodeValue(\"BBB\")\n",
    "bbb2 = ReturnNodeValue(\"B2B2\")\n",
    "ccc = ReturnNodeValue(\"CCC\")\n",
    "ddd = ReturnNodeValue(\"DDD\")\n",
    "graph_spec = \"\"\"\n",
    "aaa(State)\n",
    "   => bbb\n",
    "   => ccc\n",
    "\n",
    "bbb\n",
    "   => bbb2\n",
    "\n",
    "bbb2\n",
    "   => ddd\n",
    "\n",
    "ccc\n",
    "   => ddd\n",
    "\n",
    "ddd\n",
    "   => END\n",
    "\"\"\"\n",
    "\n",
    "graph_code = gen_graph(\"parallel\", graph_spec)\n",
    "print(graph_code)\n",
    "exec(graph_code)"
   ]
  },
  {
   "cell_type": "code",
   "execution_count": 15,
   "id": "38111496-56ed-4b70-9808-02104265d5d2",
   "metadata": {},
   "outputs": [
    {
     "data": {
      "image/jpeg": "[encoded data removed]",
      "text/plain": [
       "<IPython.core.display.Image object>"
      ]
     },
     "metadata": {},
     "output_type": "display_data"
    }
   ],
   "source": [
    "from IPython.display import Image, display\n",
    "\n",
    "display(Image(parallel.get_graph().draw_mermaid_png()))"
   ]
  },
  {
   "cell_type": "code",
   "execution_count": 16,
   "id": "b33d029e-27b5-4681-99f5-a0893e7bd440",
   "metadata": {},
   "outputs": [
    {
     "name": "stdout",
     "output_type": "stream",
     "text": [
      "Adding AAA to []\n",
      "Adding BBB to ['AAA']\n",
      "Adding CCC to ['AAA']\n",
      "Adding B2B2 to ['AAA', 'BBB', 'CCC']\n",
      "Adding DDD to ['AAA', 'BBB', 'CCC']\n",
      "Adding DDD to ['AAA', 'BBB', 'CCC', 'B2B2', 'DDD']\n"
     ]
    },
    {
     "data": {
      "text/plain": [
       "{'aggregate': ['AAA', 'BBB', 'CCC', 'B2B2', 'DDD', 'DDD']}"
      ]
     },
     "execution_count": 16,
     "metadata": {},
     "output_type": "execute_result"
    }
   ],
   "source": [
    "parallel.invoke({\"aggregate\": []})"
   ]
  },
  {
   "cell_type": "markdown",
   "id": "d45f4477",
   "metadata": {},
   "source": [
    "## Conditional Branching\n",
    "\n",
    "If your fan-out is not deterministic, you can use [add_conditional_edges](https://langchain-ai.github.io/langgraph/reference/graphs/#langgraph.graph.StateGraph.add_conditional_edges) directly.\n",
    "\n",
    "If you have a known \"sink\" node that the conditional branches will route to afterwards, you can provide `then=<final-node-name>` when creating the conditional edges."
   ]
  },
  {
   "cell_type": "code",
   "execution_count": 17,
   "id": "95f5e026",
   "metadata": {},
   "outputs": [],
   "source": [
    "import operator\n",
    "from typing import Annotated, Sequence\n",
    "\n",
    "from typing_extensions import TypedDict\n",
    "\n",
    "from langgraph.graph import END, START, StateGraph\n",
    "\n",
    "\n",
    "class State(TypedDict):\n",
    "    # The operator.add reducer fn makes this append-only\n",
    "    aggregate: Annotated[list, operator.add]\n",
    "    which: str\n",
    "\n",
    "\n",
    "builder = StateGraph(State)\n",
    "builder.add_node(\"a\", ReturnNodeValue(\"I'm A\"))\n",
    "builder.add_edge(START, \"a\")\n",
    "builder.add_node(\"b\", ReturnNodeValue(\"I'm B\"))\n",
    "builder.add_node(\"c\", ReturnNodeValue(\"I'm C\"))\n",
    "builder.add_node(\"d\", ReturnNodeValue(\"I'm D\"))\n",
    "builder.add_node(\"e\", ReturnNodeValue(\"I'm E\"))\n",
    "\n",
    "\n",
    "def route_bc_or_cd(state: State) -> Sequence[str]:\n",
    "    if state[\"which\"] == \"cd\":\n",
    "        return [\"c\", \"d\"]\n",
    "    return [\"b\", \"c\"]\n",
    "\n",
    "\n",
    "intermediates = [\"b\", \"c\", \"d\"]\n",
    "builder.add_conditional_edges(\n",
    "    \"a\",\n",
    "    route_bc_or_cd,\n",
    "    intermediates,\n",
    ")\n",
    "for node in intermediates:\n",
    "    builder.add_edge(node, \"e\")\n",
    "\n",
    "\n",
    "builder.add_edge(\"e\", END)\n",
    "graph = builder.compile()"
   ]
  },
  {
   "cell_type": "code",
   "execution_count": 18,
   "id": "789b0be1-0bb9-49a0-9aca-299b6a68085d",
   "metadata": {},
   "outputs": [
    {
     "name": "stdout",
     "output_type": "stream",
     "text": [
      "TRANSFORMED\n",
      "\n",
      "\n",
      "aaa(State)\n",
      "   bc => bbb, ccc\n",
      "   cd => ccc, ddd\n",
      "\n",
      "bbb\n",
      "   => eee\n",
      "\n",
      "ccc\n",
      "   => eee\n",
      "\n",
      "ddd\n",
      "   => eee\n",
      "\n",
      "eee\n",
      "   => END\n",
      "\n",
      "conditional = StateGraph(State)\n",
      "conditional.add_node('aaa', aaa)\n",
      "conditional.add_node('bbb', bbb)\n",
      "conditional.add_node('ccc', ccc)\n",
      "conditional.add_node('ddd', ddd)\n",
      "conditional.add_node('eee', eee)\n",
      "\n",
      "conditional.set_entry_point('aaa')\n",
      "\n",
      "def after_aaa(state: State):\n",
      "    if bc(state):\n",
      "        return ['bbb', 'ccc']\n",
      "    elif cd(state):\n",
      "        return ['ccc', 'ddd']\n",
      "    else:\n",
      "        raise ValueError(\"No destination\")\n",
      "\n",
      "aaa_dict = ['ddd', 'ccc', 'bbb']\n",
      "conditional.add_conditional_edges('aaa', after_aaa, aaa_dict)\n",
      "\n",
      "conditional.add_edge('bbb', 'eee')\n",
      "conditional.add_edge('ccc', 'eee')\n",
      "conditional.add_edge('ddd', 'eee')\n",
      "conditional.add_edge('eee', END)\n",
      "\n",
      "conditional = conditional.compile()\n"
     ]
    }
   ],
   "source": [
    "aaa = ReturnNodeValue(\"AAA\")\n",
    "bbb = ReturnNodeValue(\"BBB\")\n",
    "ccc = ReturnNodeValue(\"CCC\")\n",
    "ddd = ReturnNodeValue(\"DDD\")\n",
    "eee = ReturnNodeValue(\"EEE\")\n",
    "\n",
    "def bc(state):\n",
    "    return state[\"which\"] == \"bc\"\n",
    "\n",
    "def cd(state):\n",
    "    return state[\"which\"] == \"cd\"\n",
    "    \n",
    "graph_spec = \"\"\"\n",
    "\n",
    "aaa(State)\n",
    "   bc => bbb, ccc\n",
    "   cd => ccc, ddd\n",
    "\n",
    "bbb\n",
    "   => eee\n",
    "\n",
    "ccc\n",
    "   => eee\n",
    "\n",
    "ddd\n",
    "   => eee\n",
    "\n",
    "eee\n",
    "   => END\n",
    "\"\"\"\n",
    "\n",
    "graph_code = gen_graph(\"conditional\", graph_spec)\n",
    "print(graph_code)\n",
    "exec(graph_code)"
   ]
  },
  {
   "cell_type": "code",
   "execution_count": 19,
   "id": "1d0e6c56",
   "metadata": {},
   "outputs": [
    {
     "data": {
      "image/jpeg": "[encoded data removed]",
      "text/plain": [
       "<IPython.core.display.Image object>"
      ]
     },
     "metadata": {},
     "output_type": "display_data"
    }
   ],
   "source": [
    "from IPython.display import Image, display\n",
    "\n",
    "display(Image(graph.get_graph().draw_mermaid_png()))"
   ]
  },
  {
   "cell_type": "code",
   "execution_count": 20,
   "id": "a69d41bc-525b-48da-b8a2-c2ebd8eff6e5",
   "metadata": {},
   "outputs": [
    {
     "data": {
      "image/jpeg": "[encoded data removed]",
      "text/plain": [
       "<IPython.core.display.Image object>"
      ]
     },
     "metadata": {},
     "output_type": "display_data"
    }
   ],
   "source": [
    "from IPython.display import Image, display\n",
    "\n",
    "display(Image(conditional.get_graph().draw_mermaid_png()))"
   ]
  },
  {
   "cell_type": "code",
   "execution_count": 21,
   "id": "7134f652",
   "metadata": {},
   "outputs": [
    {
     "name": "stdout",
     "output_type": "stream",
     "text": [
      "Adding I'm A to []\n",
      "Adding I'm B to [\"I'm A\"]\n",
      "Adding I'm C to [\"I'm A\"]\n",
      "Adding I'm E to [\"I'm A\", \"I'm B\", \"I'm C\"]\n"
     ]
    },
    {
     "data": {
      "text/plain": [
       "{'aggregate': [\"I'm A\", \"I'm B\", \"I'm C\", \"I'm E\"], 'which': 'bc'}"
      ]
     },
     "execution_count": 21,
     "metadata": {},
     "output_type": "execute_result"
    }
   ],
   "source": [
    "graph.invoke({\"aggregate\": [], \"which\": \"bc\"})"
   ]
  },
  {
   "cell_type": "code",
   "execution_count": 22,
   "id": "c2a4f036-b35d-4647-87bd-6d8b9261773f",
   "metadata": {},
   "outputs": [
    {
     "name": "stdout",
     "output_type": "stream",
     "text": [
      "Adding AAA to []\n",
      "Adding CCC to ['AAA']\n",
      "Adding BBB to ['AAA']\n",
      "Adding EEE to ['AAA', 'BBB', 'CCC']\n"
     ]
    },
    {
     "data": {
      "text/plain": [
       "{'aggregate': ['AAA', 'BBB', 'CCC', 'EEE'], 'which': 'bc'}"
      ]
     },
     "execution_count": 22,
     "metadata": {},
     "output_type": "execute_result"
    }
   ],
   "source": [
    "conditional.invoke({\"aggregate\": [], \"which\": \"bc\"})"
   ]
  },
  {
   "cell_type": "code",
   "execution_count": 23,
   "id": "b130e694",
   "metadata": {},
   "outputs": [
    {
     "name": "stdout",
     "output_type": "stream",
     "text": [
      "Adding I'm A to []\n",
      "Adding I'm C to [\"I'm A\"]\n",
      "Adding I'm D to [\"I'm A\"]\n",
      "Adding I'm E to [\"I'm A\", \"I'm C\", \"I'm D\"]\n"
     ]
    },
    {
     "data": {
      "text/plain": [
       "{'aggregate': [\"I'm A\", \"I'm C\", \"I'm D\", \"I'm E\"], 'which': 'cd'}"
      ]
     },
     "execution_count": 23,
     "metadata": {},
     "output_type": "execute_result"
    }
   ],
   "source": [
    "graph.invoke({\"aggregate\": [], \"which\": \"cd\"})"
   ]
  },
  {
   "cell_type": "code",
   "execution_count": 24,
   "id": "03d4ff7e-4910-4e07-8a1b-750be1f58f28",
   "metadata": {},
   "outputs": [
    {
     "name": "stdout",
     "output_type": "stream",
     "text": [
      "Adding AAA to []\n",
      "Adding DDD to ['AAA']\n",
      "Adding CCC to ['AAA']\n",
      "Adding EEE to ['AAA', 'CCC', 'DDD']\n"
     ]
    },
    {
     "data": {
      "text/plain": [
       "{'aggregate': ['AAA', 'CCC', 'DDD', 'EEE'], 'which': 'cd'}"
      ]
     },
     "execution_count": 24,
     "metadata": {},
     "output_type": "execute_result"
    }
   ],
   "source": [
    "conditional.invoke({\"aggregate\": [], \"which\": \"cd\"})"
   ]
  },
  {
   "cell_type": "markdown",
   "id": "952cd6f3",
   "metadata": {},
   "source": [
    "## Stable Sorting\n",
    "\n",
    "When fanned out, nodes are run in parallel as a single \"superstep\". The updates from each superstep are all applied to the state in sequence once the superstep has completed. \n",
    "\n",
    "If you need consistent, predetermined ordering of updates from a parallel superstep, you should write the outputs (along with an identifying key) to a separate field in your state, then combine them in the \"sink\" node by adding regular `edge`'s from each of the fanout nodes to the rendezvous point.\n",
    "\n",
    "For instance, suppose I want to order the outputs of the parallel step by \"reliability\"."
   ]
  },
  {
   "cell_type": "code",
   "execution_count": 25,
   "id": "836bc12d",
   "metadata": {},
   "outputs": [],
   "source": [
    "import operator\n",
    "from typing import Annotated, Sequence\n",
    "\n",
    "from typing_extensions import TypedDict\n",
    "\n",
    "from langgraph.graph import StateGraph\n",
    "\n",
    "\n",
    "def reduce_fanouts(left, right):\n",
    "    if left is None:\n",
    "        left = []\n",
    "    if not right:\n",
    "        # Overwrite\n",
    "        return []\n",
    "    return left + right\n",
    "\n",
    "\n",
    "class State(TypedDict):\n",
    "    # The operator.add reducer fn makes this append-only\n",
    "    aggregate: Annotated[list, operator.add]\n",
    "    fanout_values: Annotated[list, reduce_fanouts]\n",
    "    which: str\n",
    "\n",
    "\n",
    "builder = StateGraph(State)\n",
    "builder.add_node(\"a\", ReturnNodeValue(\"I'm A\"))\n",
    "builder.add_edge(START, \"a\")\n",
    "\n",
    "\n",
    "class ParallelReturnNodeValue:\n",
    "    def __init__(\n",
    "        self,\n",
    "        node_secret: str,\n",
    "        reliability: float,\n",
    "    ):\n",
    "        self._value = node_secret\n",
    "        self._reliability = reliability\n",
    "\n",
    "    def __call__(self, state: State) -> Any:\n",
    "        print(f\"Adding {self._value} to {state['aggregate']} in parallel.\")\n",
    "        return {\n",
    "            \"fanout_values\": [\n",
    "                {\n",
    "                    \"value\": [self._value],\n",
    "                    \"reliability\": self._reliability,\n",
    "                }\n",
    "            ]\n",
    "        }\n",
    "\n",
    "\n",
    "builder.add_node(\"b\", ParallelReturnNodeValue(\"I'm B\", reliability=0.9))\n",
    "\n",
    "builder.add_node(\"c\", ParallelReturnNodeValue(\"I'm C\", reliability=0.1))\n",
    "builder.add_node(\"d\", ParallelReturnNodeValue(\"I'm D\", reliability=0.3))\n",
    "\n",
    "\n",
    "def aggregate_fanout_values(state: State) -> Any:\n",
    "    # Sort by reliability\n",
    "    ranked_values = sorted(\n",
    "        state[\"fanout_values\"], key=lambda x: x[\"reliability\"], reverse=True\n",
    "    )\n",
    "    return {\n",
    "        \"aggregate\": [x[\"value\"] for x in ranked_values] + [\"I'm E\"],\n",
    "        \"fanout_values\": [],\n",
    "    }\n",
    "\n",
    "\n",
    "builder.add_node(\"e\", aggregate_fanout_values)\n",
    "\n",
    "\n",
    "def route_bc_or_cd(state: State) -> Sequence[str]:\n",
    "    if state[\"which\"] == \"cd\":\n",
    "        return [\"c\", \"d\"]\n",
    "    return [\"b\", \"c\"]\n",
    "\n",
    "\n",
    "intermediates = [\"b\", \"c\", \"d\"]\n",
    "builder.add_conditional_edges(\"a\", route_bc_or_cd, intermediates)\n",
    "\n",
    "for node in intermediates:\n",
    "    builder.add_edge(node, \"e\")\n",
    "\n",
    "builder.add_edge(\"e\", END)\n",
    "graph = builder.compile()"
   ]
  },
  {
   "cell_type": "code",
   "execution_count": 26,
   "id": "932c497e",
   "metadata": {},
   "outputs": [
    {
     "data": {
      "image/jpeg": "[encoded data removed]",
      "text/plain": [
       "<IPython.core.display.Image object>"
      ]
     },
     "metadata": {},
     "output_type": "display_data"
    }
   ],
   "source": [
    "from IPython.display import Image, display\n",
    "\n",
    "display(Image(graph.get_graph().draw_mermaid_png()))"
   ]
  },
  {
   "cell_type": "code",
   "execution_count": 27,
   "id": "933b3afd",
   "metadata": {},
   "outputs": [
    {
     "name": "stdout",
     "output_type": "stream",
     "text": [
      "Adding I'm A to []\n",
      "Adding I'm B to [\"I'm A\"] in parallel.\n",
      "Adding I'm C to [\"I'm A\"] in parallel.\n"
     ]
    },
    {
     "data": {
      "text/plain": [
       "{'aggregate': [\"I'm A\", [\"I'm B\"], [\"I'm C\"], \"I'm E\"],\n",
       " 'fanout_values': [],\n",
       " 'which': 'bc'}"
      ]
     },
     "execution_count": 27,
     "metadata": {},
     "output_type": "execute_result"
    }
   ],
   "source": [
    "graph.invoke({\"aggregate\": [], \"which\": \"bc\", \"fanout_values\": []})"
   ]
  },
  {
   "cell_type": "code",
   "execution_count": 28,
   "id": "e30531bf",
   "metadata": {},
   "outputs": [
    {
     "name": "stdout",
     "output_type": "stream",
     "text": [
      "Adding I'm A to []\n",
      "Adding I'm C to [\"I'm A\"] in parallel.\n",
      "Adding I'm D to [\"I'm A\"] in parallel.\n"
     ]
    },
    {
     "data": {
      "text/plain": [
       "{'aggregate': [\"I'm A\", [\"I'm D\"], [\"I'm C\"], \"I'm E\"],\n",
       " 'fanout_values': [],\n",
       " 'which': 'cd'}"
      ]
     },
     "execution_count": 28,
     "metadata": {},
     "output_type": "execute_result"
    }
   ],
   "source": [
    "graph.invoke({\"aggregate\": [], \"which\": \"cd\"})"
   ]
  },
  {
   "cell_type": "code",
   "execution_count": null,
   "id": "d1433e00-2a5c-4e9a-9e07-c9c6eae1d8b0",
   "metadata": {},
   "outputs": [],
   "source": []
  }
 ],
 "metadata": {
  "kernelspec": {
   "display_name": "Python 3 (ipykernel)",
   "language": "python",
   "name": "python3"
  },
  "language_info": {
   "codemirror_mode": {
    "name": "ipython",
    "version": 3
   },
   "file_extension": ".py",
   "mimetype": "text/x-python",
   "name": "python",
   "nbconvert_exporter": "python",
   "pygments_lexer": "ipython3",
   "version": "3.11.3"
  }
 },
 "nbformat": 4,
 "nbformat_minor": 5
}
