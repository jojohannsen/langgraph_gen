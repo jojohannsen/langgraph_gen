{
 "cells": [
  {
   "cell_type": "code",
   "execution_count": 1,
   "id": "43703410-23a1-4d39-9e80-7c7f0fa3f569",
   "metadata": {},
   "outputs": [],
   "source": [
    "from graph_gen.gen_graph import gen_graph\n",
    "\n",
    "# Run common_imports.py\n",
    "%run graph_gen/common_imports.py"
   ]
  },
  {
   "cell_type": "code",
   "execution_count": 2,
   "id": "294132e3-5fe7-4aba-951a-f46b0c328c5b",
   "metadata": {},
   "outputs": [
    {
     "name": "stdout",
     "output_type": "stream",
     "text": [
      "reducer = StateGraph(State)\n",
      "reducer.add_node('aaa', aaa)\n",
      "reducer.add_node('bbb', bbb)\n",
      "reducer.add_node('ccc', ccc)\n",
      "reducer.add_node('ddd', ddd)\n",
      "reducer.add_node('eee', eee)\n",
      "\n",
      "reducer.set_entry_point('aaa')\n",
      "\n",
      "reducer.add_edge('aaa', 'bbb')\n",
      "reducer.add_edge('bbb', 'ccc')\n",
      "reducer.add_edge('ccc', 'ddd')\n",
      "reducer.add_edge('ddd', 'eee')\n",
      "def after_eee(state: State):\n",
      "    if repeat(state):\n",
      "        return 'aaa'\n",
      "    return 'END'\n",
      "\n",
      "eee_dict = {'aaa': 'aaa', 'END': END}\n",
      "reducer.add_conditional_edges('eee', after_eee, eee_dict)\n",
      "\n",
      "\n",
      "reducer = reducer.compile()\n"
     ]
    }
   ],
   "source": [
    "from typing import List, Callable\n",
    "\n",
    "def limit_n(a, b, max_list_size=3):\n",
    "    if not isinstance(b, list):\n",
    "        b = [b]\n",
    "    result = a + b\n",
    "    result = result[-max_list_size:]\n",
    "    return result\n",
    "    \n",
    "import functools\n",
    "\n",
    "# Have to wrap the partial function because Annotated expects a function\n",
    "limit_n3 = functools.partial(limit_n, max_list_size=3)\n",
    "def limit_n3_wrapped(*args, **kwargs):\n",
    "    return limit_n(*args, **kwargs)\n",
    "\n",
    "def limit3(a, b):\n",
    "    max_list_size = 3\n",
    "    if not isinstance(b, list):\n",
    "        b = [b]\n",
    "    result = a + b\n",
    "    result = result[-max_list_size:]\n",
    "    return result\n",
    "    \n",
    "class State(TypedDict):\n",
    "    stuff: Annotated[list, limit3]\n",
    "    count: int\n",
    "\n",
    "def aaa(state):\n",
    "    print(\"in AAA\")\n",
    "    count = state['count'] + 1 if state['count'] else 1\n",
    "    astr = f\"aaa{count}\"\n",
    "    return { \"stuff\": astr, \"count\": count }\n",
    "\n",
    "def bbb(state):\n",
    "    print(\"in BBB\")\n",
    "    count = state['count'] + 1\n",
    "    astr = f\"bbb{count}\"\n",
    "    return { \"stuff\": astr, \"count\": count }\n",
    "\n",
    "def ccc(state):\n",
    "    print(\"in CCC\")\n",
    "    count = state['count'] + 1\n",
    "    astr = f\"ccc{count}\"\n",
    "    return { \"stuff\": astr, \"count\": count }\n",
    "\n",
    "def ddd(state):\n",
    "    print(\"in DDD\")\n",
    "    count = state['count'] + 1\n",
    "    astr = f\"ddd{count}\"\n",
    "    return { \"stuff\": astr, \"count\": count }\n",
    "\n",
    "def eee(state):\n",
    "    print(\"in EEE\")\n",
    "    count = state['count'] + 1\n",
    "    astr = f\"eee{count}\"\n",
    "    return { \"stuff\": astr, \"count\": count }\n",
    "\n",
    "def repeat(state):\n",
    "    print(\"in REPEAT, False after we hit 13\")\n",
    "    return state['count'] < 13\n",
    "    \n",
    "graph_spec = \"\"\"\n",
    "\n",
    "aaa(State)\n",
    "  => bbb\n",
    "\n",
    "bbb\n",
    "  => ccc\n",
    "\n",
    "ccc\n",
    "  => ddd\n",
    "\n",
    "ddd\n",
    "  => eee\n",
    "\n",
    "eee\n",
    "  repeat => aaa\n",
    "  => END\n",
    "  \n",
    "\"\"\"\n",
    "\n",
    "graph_code = gen_graph(\"reducer\", graph_spec)\n",
    "print(graph_code)\n",
    "exec(graph_code)"
   ]
  },
  {
   "cell_type": "code",
   "execution_count": 3,
   "id": "c34eb838-8def-4ca1-be3c-15a5ece1eccb",
   "metadata": {},
   "outputs": [
    {
     "data": {
      "text/plain": [
       "(function, functools.partial, function)"
      ]
     },
     "execution_count": 3,
     "metadata": {},
     "output_type": "execute_result"
    }
   ],
   "source": [
    "type(limit3), type(limit_n3), type(limit_n3_wrapped)"
   ]
  },
  {
   "cell_type": "code",
   "execution_count": 4,
   "id": "05e9e93b-4a2c-4024-b81c-85e9e980b8d3",
   "metadata": {},
   "outputs": [
    {
     "data": {
      "text/plain": [
       "([200, 1, 2], [200, 1, 2], [200, 1, 2])"
      ]
     },
     "execution_count": 4,
     "metadata": {},
     "output_type": "execute_result"
    }
   ],
   "source": [
    "limit_n3([100,200],[1,2]), limit3([100,200], [1,2]),limit_n3_wrapped([100,200],[1,2])"
   ]
  },
  {
   "cell_type": "code",
   "execution_count": 5,
   "id": "ff682bff-9702-49d8-9690-c5b3d59ff499",
   "metadata": {},
   "outputs": [
    {
     "name": "stdout",
     "output_type": "stream",
     "text": [
      "in AAA\n",
      "in BBB\n",
      "in CCC\n",
      "in DDD\n",
      "in EEE\n",
      "in REPEAT, False after we hit 13\n",
      "in AAA\n",
      "in BBB\n",
      "in CCC\n",
      "in DDD\n",
      "in EEE\n",
      "in REPEAT, False after we hit 13\n",
      "in AAA\n",
      "in BBB\n",
      "in CCC\n",
      "in DDD\n",
      "in EEE\n",
      "in REPEAT, False after we hit 13\n"
     ]
    },
    {
     "data": {
      "text/plain": [
       "{'stuff': ['ccc13', 'ddd14', 'eee15'], 'count': 15}"
      ]
     },
     "execution_count": 5,
     "metadata": {},
     "output_type": "execute_result"
    }
   ],
   "source": [
    "reducer.invoke({\"stuff\": []})"
   ]
  },
  {
   "cell_type": "code",
   "execution_count": 6,
   "id": "00fc06c1-2de2-4547-b031-75b4bb7f4650",
   "metadata": {},
   "outputs": [
    {
     "data": {
      "image/jpeg": "[encoded data removed]",
      "text/plain": [
       "<IPython.core.display.Image object>"
      ]
     },
     "metadata": {},
     "output_type": "display_data"
    }
   ],
   "source": [
    "from IPython.display import Image, display\n",
    "\n",
    "display(Image(reducer.get_graph().draw_mermaid_png()))"
   ]
  },
  {
   "cell_type": "code",
   "execution_count": 7,
   "id": "57cb0a22-aa34-4edc-a624-7f424c710561",
   "metadata": {},
   "outputs": [
    {
     "name": "stdout",
     "output_type": "stream",
     "text": [
      "in AAA\n",
      "in BBB\n",
      "in CCC\n",
      "in DDD\n",
      "in EEE\n",
      "in REPEAT, False after we hit 13\n"
     ]
    },
    {
     "data": {
      "text/plain": [
       "{'stuff': ['ccc15', 'ddd16', 'eee17'], 'count': 17}"
      ]
     },
     "execution_count": 7,
     "metadata": {},
     "output_type": "execute_result"
    }
   ],
   "source": [
    "from langchain.globals import set_verbose\n",
    "\n",
    "set_verbose(True)\n",
    "\n",
    "reducer.invoke({\"stuff\": [], \"count\": 12})"
   ]
  },
  {
   "cell_type": "code",
   "execution_count": null,
   "id": "c12c5f03-c842-4424-bd28-71b0a412c003",
   "metadata": {},
   "outputs": [],
   "source": []
  }
 ],
 "metadata": {
  "kernelspec": {
   "display_name": "Python 3 (ipykernel)",
   "language": "python",
   "name": "python3"
  },
  "language_info": {
   "codemirror_mode": {
    "name": "ipython",
    "version": 3
   },
   "file_extension": ".py",
   "mimetype": "text/x-python",
   "name": "python",
   "nbconvert_exporter": "python",
   "pygments_lexer": "ipython3",
   "version": "3.11.3"
  }
 },
 "nbformat": 4,
 "nbformat_minor": 5
}
